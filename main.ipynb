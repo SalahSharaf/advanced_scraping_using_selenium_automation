{
 "cells": [
  {
   "cell_type": "code",
   "execution_count": 1,
   "metadata": {},
   "outputs": [],
   "source": [
    "import time\n",
    "import pandas as pd\n",
    "import selenium as sel\n",
    "from selenium import webdriver\n",
    "from selenium.webdriver.support.ui import WebDriverWait,Select\n",
    "from selenium.webdriver.support import expected_conditions as EC\n",
    "from selenium.webdriver.common.by import By\n",
    "from selenium.common.exceptions import NoSuchElementException,StaleElementReferenceException"
   ]
  },
  {
   "cell_type": "code",
   "execution_count": 2,
   "metadata": {},
   "outputs": [],
   "source": [
    "########################## selenium part\n",
    "driver_chrome_path=r'chromedriver.exe'\n",
    "url='https://www.mobil.com/en/lubricants/what-to-buy/find-the-right-motor-oil/'\n",
    "rows=pd.DataFrame(columns=['year','make','model','engine','oil_recommendation','oil_filter_recommendation'])\n",
    "row={}"
   ]
  },
  {
   "cell_type": "code",
   "execution_count": null,
   "metadata": {},
   "outputs": [],
   "source": [
    "driver_info=webdriver.Chrome(executable_path=driver_chrome_path)\n",
    "driver_info.get(url)\n",
    "options0=Select(WebDriverWait(driver_info,100)\n",
    ".until(EC.visibility_of_element_located((By.XPATH,'//select[@id=\"select0\"]'))))\n",
    "try:\n",
    "    for i in options0.options:\n",
    "        options0.select_by_visible_text(i.text)\n",
    "        row['year']=i.text\n",
    "        options1= Select(WebDriverWait(driver_info,100)\n",
    "        .until(EC.element_to_be_clickable((By.XPATH,'//select[@id=\"select1\"]'))))\n",
    "        for x in options1.options:\n",
    "            row['make']=i.text\n",
    "            options1.select_by_visible_text(x.text)\n",
    "            options2= Select(WebDriverWait(driver_info,100)\n",
    "            .until(EC.element_to_be_clickable((By.XPATH,'//select[@id=\"select2\"]'))))\n",
    "            for y in options2.options:\n",
    "                options2.select_by_visible_text(y.text)\n",
    "                row['model']=y.text\n",
    "                options3= Select(WebDriverWait(driver_info,100)\n",
    "                .until(EC.element_to_be_clickable((By.XPATH,'//select[@id=\"select3\"]'))))\n",
    "                for z in options3.options:\n",
    "                    options3.select_by_visible_text(z.text)\n",
    "                    row['engine']=z.text\n",
    "                    row['oil_recommendation']=None\n",
    "                    row['oil_recommendation_filter']=None\n",
    "                    print(row)\n",
    "                    rows=rows.append(row,ignore_index=True)\n",
    "                    pass\n",
    "                pass\n",
    "            pass\n",
    "        pass\n",
    "    \n",
    "except StaleElementReferenceException:\n",
    "    pass    \n",
    "driver_info.quit()\n",
    "\n"
   ]
  },
  {
   "cell_type": "code",
   "execution_count": null,
   "metadata": {},
   "outputs": [],
   "source": []
  }
 ],
 "metadata": {
  "interpreter": {
   "hash": "6d46af94c2bbce495f1e668725902fa517c90b1782bcfe2fce0dd9868df553d3"
  },
  "kernelspec": {
   "display_name": "Python 3.8.12 64-bit ('base': conda)",
   "name": "python3"
  },
  "language_info": {
   "codemirror_mode": {
    "name": "ipython",
    "version": 3
   },
   "file_extension": ".py",
   "mimetype": "text/x-python",
   "name": "python",
   "nbconvert_exporter": "python",
   "pygments_lexer": "ipython3",
   "version": "3.8.12"
  },
  "orig_nbformat": 4
 },
 "nbformat": 4,
 "nbformat_minor": 2
}
